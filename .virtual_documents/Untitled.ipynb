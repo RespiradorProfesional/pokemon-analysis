


import pandas as pd
import math
import matplotlib.pyplot as plt
import seaborn as sns
from scipy import stats
import numpy as np
from sklearn.preprocessing import StandardScaler





df= pd.read_csv('pokemon.csv')


df.sample(10)


df.info()


df.duplicated().sum()








#obtengo las columnas de debilidades
debilidades_columns = df.filter(like='against_').columns

# Crear una máscara booleana donde el valor es True si el porcentaje es mayor a 2
mask = df[debilidades_columns] >= 2

#sumo todos los valores que son true en la mascara (que son mayores a 2) y creo una columna
df['Total Debilidades'] = mask.sum(axis=1)











#types1_group= df.groupby('type1')
#print(types1_group['name'].count())

types2_count= df['type2'].value_counts()
types1_count = df['type1'].value_counts()


    ##Cantidad de pokemon con diferentes tipos

combined_counts = pd.concat([types1_count, types2_count], axis=1)

combined_counts['Total Count'] = combined_counts.sum(axis=1)

# Renombrar las columnas
combined_counts.columns = ['Type1 Count', 'Type2 Count','Total Count']

combined_counts = combined_counts.sort_values(by='Total Count', ascending=False)

print(combined_counts)


    ##Cuantos pokemons hay con 2er tipo

print(f"{types2_count.sum()} total de pokemons con 2 tipos")


    ##Cuanto porcentaje de pokemons tiene 2er tipo

porcentaje= math.trunc((types2_count.sum()/types1_count.sum())* 100)
print(f"{porcentaje}% de pokemons con 2 tipos")


plt.figure(figsize=(13,6))
plt.bar(combined_counts.index,combined_counts['Total Count'])

plt.show()





total_effect= df[debilidades_columns].sum()

# Renombrar columnas para quitar 'against_'
total_effect.rename(lambda x: x.replace('against_', ''), inplace=True)
total_effect=total_effect.sort_values(ascending=False)

plt.figure(figsize=(13,6))
plt.bar(total_effect.index, total_effect)

plt.show()





generation_group= df.groupby('generation')
count_generation_group= generation_group['name'].count()

count_generation_group=count_generation_group.sort_values(ascending=False)

# Crear un gráfico de pastel
plt.figure(figsize=(8, 6))
plt.pie(count_generation_group , labels=count_generation_group.index, autopct='%1.1f%%', startangle=90)
plt.title('Cantidad de pokemons segun generacion')
plt.axis('equal')  # Para asegurar que el pie chart sea un círculo
plt.show()





fig, axs= plt.subplots(2,2,figsize=(15,10))

attack_pokemon= df.sort_values(by='attack', ascending=False).head(5)
sp_attack_pokemon= df.sort_values(by='sp_attack', ascending=False).head(5)
speed_pokemon= df.sort_values(by='speed', ascending=False).head(5)
hp_pokemon= df.sort_values(by='hp', ascending=False).head(5)

# Crear gráficos de barras
sns.barplot(y="attack", x="name", data=attack_pokemon, edgecolor="red", ax=axs[0, 0])
axs[0, 0].set_title("Top 5 Pokemons por ataque")

sns.barplot(y="sp_attack", x="name", data=sp_attack_pokemon, edgecolor="red", ax=axs[0, 1])
axs[0, 1].set_title("Top 5 Pokemons por ataque especial")

sns.barplot(y="speed", x="name", data=speed_pokemon, edgecolor="red", ax=axs[1, 0])
axs[1, 0].set_title("Top 5 Pokemons por velocidad")

sns.barplot(y="hp", x="name", data=hp_pokemon, edgecolor="red", ax=axs[1, 1])
axs[1, 1].set_title("Top 5 Pokemons por vida")

plt.show()














plt.figure(figsize=(12, 6))

plt.scatter(df['base_egg_steps'],df['base_total'])

plt.xlabel('Base eggs steps')
plt.ylabel('Base total')
plt.title('Relationship Between Discounts and Sales')

plt.show()


#esto es de chatgpt lo quiero hacer abajo mejor
data = {
    'Estadísticas': ['Attack', 'Defense', 'Speed', 'HP', 'Sp. Attack', 'Sp. Defense'],
    'Legendarios': df.loc[df['is_legendary'] == 1, ['attack', 'defense', 'speed', 'hp', 'sp_attack', 'sp_defense']].mean().values,
    'No Legendarios': df.loc[df['is_legendary'] == 0, ['attack', 'defense', 'speed', 'hp', 'sp_attack', 'sp_defense']].mean().values
}

df_e=df.loc[df['is_legendary'] == 1, ['attack', 'defense', 'speed', 'hp', 'sp_attack', 'sp_defense']].mean()

df_comparativo = pd.DataFrame(data)

# Usar melt para transformar el DataFrame en un formato largo
df_melted = df_comparativo.melt(id_vars='Estadísticas', var_name='Tipo', value_name='Valor')

# Graficar
sns.barplot(x='Estadísticas', y='Valor', hue='Tipo', data=df_melted, palette='muted')
plt.title('Comparación de Estadísticas de Pokémon')
plt.ylabel('Valor')
plt.xlabel('Estadísticas')
plt.legend(title='Tipo')
plt.show()



#df_lengendary= df.loc[df['is_legendary'] == 1, ['attack', 'defense', 'speed', 'hp', 'sp_attack', 'sp_defense']].mean(),

grouped_by_legend= df.groupby('is_legendary')
df_legen= grouped_by_legend[['attack', 'defense', 'speed', 'hp', 'sp_attack', 'sp_defense']].mean()

df_legen




